{
 "cells": [
  {
   "cell_type": "code",
   "execution_count": 63,
   "metadata": {},
   "outputs": [],
   "source": [
    "%matplotlib inline\n",
    "import pandas as pd\n",
    "import matplotlib.pyplot as plt\n",
    "import numpy as np\n",
    "\n",
    "from io import StringIO\n",
    "import re"
   ]
  },
  {
   "cell_type": "code",
   "execution_count": 64,
   "metadata": {},
   "outputs": [
    {
     "name": "stdout",
     "output_type": "stream",
     "text": [
      "---------------------------------------------------------------------------------------\n",
      "                    RDMA_Write BW Test\n",
      " Dual-port       : OFFDevice         : mlx5_1\n",
      " Number of qps   : 1Transport type : IB\n",
      " Connection type : RCUsing SRQ      : OFF\n",
      " TX depth        : 128\n",
      " CQ Moderation   : 100\n",
      " Mtu             : 4096[B]\n",
      " Link type       : IB\n",
      " Max inline data : 0[B]\n",
      " rdma_cm QPs : OFF\n",
      " Data ex. method : Ethernet\n",
      "---------------------------------------------------------------------------------------\n",
      " local address: LID 0x04 QPN 0x0893 PSN 0xe3919b RKey 0x08643c VAddr 0x007f8813aba000\n",
      " remote address: LID 0x06 QPN 0x0893 PSN 0x6f6913 RKey 0x08b5e1 VAddr 0x007fe9861f7000\n",
      "---------------------------------------------------------------------------------------\n",
      " #bytes     #iterations    BW peak[Gb/sec]    BW average[Gb/sec]   MsgRate[Mpps]\n",
      " 2          5000           0.076490            0.074258            4.641094\n",
      " 4          5000             0.30               0.29      9.005148\n",
      " 8          5000             0.60               0.60      9.385083\n",
      " 16         5000             1.20               1.13      8.798245\n",
      " 32         5000             2.41               2.29      8.928812\n",
      " 64         5000             4.84               4.80      9.383235\n",
      " 128        5000             9.53               8.90      8.695316\n",
      " 256        5000             19.20              17.05     8.327515\n",
      " 512        5000             37.52              34.95     8.532702\n",
      " 1024       5000             72.55              65.08     7.944629\n",
      " 2048       5000             92.30              86.00     5.249035\n",
      " 4096       5000             95.79              93.12     2.841712\n",
      " 8192       5000             95.04              94.70     1.445035\n",
      " 16384      5000             95.47              95.45     0.728236\n",
      " 32768      5000             95.44              95.40     0.363905\n",
      " 65536      5000             95.45              95.43     0.182015\n",
      " 131072     5000             95.49              95.49     0.091070\n",
      " 262144     5000             95.68              95.60     0.045585\n",
      " 524288     5000             95.53              95.53     0.022775\n",
      " 1048576    5000             95.54              95.53     0.011388\n",
      " 2097152    5000             95.52              95.52     0.005693\n",
      " 4194304    5000             95.50              95.50     0.002846\n",
      " 8388608    5000             95.49              95.49     0.001423\n",
      "---------------------------------------------------------------------------------------\n",
      "\n"
     ]
    }
   ],
   "source": [
    "with open(\"sample.ibwrite\",'r') as f:\n",
    "        filetext = f.read()\n",
    "\n",
    "print(filetext)"
   ]
  },
  {
   "cell_type": "code",
   "execution_count": 65,
   "metadata": {},
   "outputs": [],
   "source": [
    "def read_perftest_output(filename):\n",
    "    csv_buffer=\"\"\n",
    "    with open(filename,'r') as f:\n",
    "        filetext = f.read()\n",
    "\n",
    "    # https://regex101.com/r/4NShAc/2\n",
    "    regex = r\"(?<=--\\n)( #bytes.*)(?=\\n--)\"\n",
    "    matches = re.search(regex, filetext, re.DOTALL)\n",
    "    if matches:\n",
    "        for line in matches.group(0).splitlines():\n",
    "            if line.startswith(\" #bytes\"):\n",
    "                csv_buffer+= \",\".join(line.replace(\"BW\",\"\").replace(\"[Gb/sec]\",\"\").replace(\"[Mpps]\",\"\").replace(\"#\",\"\").\\\n",
    "                            replace(\"[usec]\",\"\").replace(\"percentile\",\"\").split()) + \"\\n\"\n",
    "            else:\n",
    "                csv_buffer+= \",\".join(line.split()) + \"\\n\"\n",
    "            \n",
    "    return csv_buffer"
   ]
  },
  {
   "cell_type": "code",
   "execution_count": 66,
   "metadata": {},
   "outputs": [
    {
     "name": "stdout",
     "output_type": "stream",
     "text": [
      "bytes,iterations,peak,average,MsgRate\n",
      "2,5000,0.076490,0.074258,4.641094\n",
      "4,5000,0.30,0.29,9.005148\n",
      "8,5000,0.60,0.60,9.385083\n",
      "16,5000,1.20,1.13,8.798245\n",
      "32,5000,2.41,2.29,8.928812\n",
      "64,5000,4.84,4.80,9.383235\n",
      "128,5000,9.53,8.90,8.695316\n",
      "256,5000,19.20,17.05,8.327515\n",
      "512,5000,37.52,34.95,8.532702\n",
      "1024,5000,72.55,65.08,7.944629\n",
      "2048,5000,92.30,86.00,5.249035\n",
      "4096,5000,95.79,93.12,2.841712\n",
      "8192,5000,95.04,94.70,1.445035\n",
      "16384,5000,95.47,95.45,0.728236\n",
      "32768,5000,95.44,95.40,0.363905\n",
      "65536,5000,95.45,95.43,0.182015\n",
      "131072,5000,95.49,95.49,0.091070\n",
      "262144,5000,95.68,95.60,0.045585\n",
      "524288,5000,95.53,95.53,0.022775\n",
      "1048576,5000,95.54,95.53,0.011388\n",
      "2097152,5000,95.52,95.52,0.005693\n",
      "4194304,5000,95.50,95.50,0.002846\n",
      "8388608,5000,95.49,95.49,0.001423\n",
      "\n"
     ]
    }
   ],
   "source": [
    "print(read_perftest_output(\"sample.ibwrite\"))"
   ]
  },
  {
   "cell_type": "code",
   "execution_count": 67,
   "metadata": {},
   "outputs": [],
   "source": [
    "df = pd.read_csv(StringIO(read_perftest_output(\"sample.ibwrite\")))"
   ]
  },
  {
   "cell_type": "markdown",
   "metadata": {},
   "source": [
    "Let's look at the first 10 rows:"
   ]
  },
  {
   "cell_type": "code",
   "execution_count": 68,
   "metadata": {},
   "outputs": [
    {
     "data": {
      "text/html": [
       "<div>\n",
       "<style scoped>\n",
       "    .dataframe tbody tr th:only-of-type {\n",
       "        vertical-align: middle;\n",
       "    }\n",
       "\n",
       "    .dataframe tbody tr th {\n",
       "        vertical-align: top;\n",
       "    }\n",
       "\n",
       "    .dataframe thead th {\n",
       "        text-align: right;\n",
       "    }\n",
       "</style>\n",
       "<table border=\"1\" class=\"dataframe\">\n",
       "  <thead>\n",
       "    <tr style=\"text-align: right;\">\n",
       "      <th></th>\n",
       "      <th>bytes</th>\n",
       "      <th>iterations</th>\n",
       "      <th>peak</th>\n",
       "      <th>average</th>\n",
       "      <th>MsgRate</th>\n",
       "    </tr>\n",
       "  </thead>\n",
       "  <tbody>\n",
       "    <tr>\n",
       "      <th>0</th>\n",
       "      <td>2</td>\n",
       "      <td>5000</td>\n",
       "      <td>0.07649</td>\n",
       "      <td>0.074258</td>\n",
       "      <td>4.641094</td>\n",
       "    </tr>\n",
       "    <tr>\n",
       "      <th>1</th>\n",
       "      <td>4</td>\n",
       "      <td>5000</td>\n",
       "      <td>0.30000</td>\n",
       "      <td>0.290000</td>\n",
       "      <td>9.005148</td>\n",
       "    </tr>\n",
       "    <tr>\n",
       "      <th>2</th>\n",
       "      <td>8</td>\n",
       "      <td>5000</td>\n",
       "      <td>0.60000</td>\n",
       "      <td>0.600000</td>\n",
       "      <td>9.385083</td>\n",
       "    </tr>\n",
       "    <tr>\n",
       "      <th>3</th>\n",
       "      <td>16</td>\n",
       "      <td>5000</td>\n",
       "      <td>1.20000</td>\n",
       "      <td>1.130000</td>\n",
       "      <td>8.798245</td>\n",
       "    </tr>\n",
       "    <tr>\n",
       "      <th>4</th>\n",
       "      <td>32</td>\n",
       "      <td>5000</td>\n",
       "      <td>2.41000</td>\n",
       "      <td>2.290000</td>\n",
       "      <td>8.928812</td>\n",
       "    </tr>\n",
       "    <tr>\n",
       "      <th>5</th>\n",
       "      <td>64</td>\n",
       "      <td>5000</td>\n",
       "      <td>4.84000</td>\n",
       "      <td>4.800000</td>\n",
       "      <td>9.383235</td>\n",
       "    </tr>\n",
       "    <tr>\n",
       "      <th>6</th>\n",
       "      <td>128</td>\n",
       "      <td>5000</td>\n",
       "      <td>9.53000</td>\n",
       "      <td>8.900000</td>\n",
       "      <td>8.695316</td>\n",
       "    </tr>\n",
       "    <tr>\n",
       "      <th>7</th>\n",
       "      <td>256</td>\n",
       "      <td>5000</td>\n",
       "      <td>19.20000</td>\n",
       "      <td>17.050000</td>\n",
       "      <td>8.327515</td>\n",
       "    </tr>\n",
       "    <tr>\n",
       "      <th>8</th>\n",
       "      <td>512</td>\n",
       "      <td>5000</td>\n",
       "      <td>37.52000</td>\n",
       "      <td>34.950000</td>\n",
       "      <td>8.532702</td>\n",
       "    </tr>\n",
       "    <tr>\n",
       "      <th>9</th>\n",
       "      <td>1024</td>\n",
       "      <td>5000</td>\n",
       "      <td>72.55000</td>\n",
       "      <td>65.080000</td>\n",
       "      <td>7.944629</td>\n",
       "    </tr>\n",
       "  </tbody>\n",
       "</table>\n",
       "</div>"
      ],
      "text/plain": [
       "   bytes  iterations      peak    average   MsgRate\n",
       "0      2        5000   0.07649   0.074258  4.641094\n",
       "1      4        5000   0.30000   0.290000  9.005148\n",
       "2      8        5000   0.60000   0.600000  9.385083\n",
       "3     16        5000   1.20000   1.130000  8.798245\n",
       "4     32        5000   2.41000   2.290000  8.928812\n",
       "5     64        5000   4.84000   4.800000  9.383235\n",
       "6    128        5000   9.53000   8.900000  8.695316\n",
       "7    256        5000  19.20000  17.050000  8.327515\n",
       "8    512        5000  37.52000  34.950000  8.532702\n",
       "9   1024        5000  72.55000  65.080000  7.944629"
      ]
     },
     "execution_count": 68,
     "metadata": {},
     "output_type": "execute_result"
    }
   ],
   "source": [
    "df.head(10)"
   ]
  },
  {
   "cell_type": "markdown",
   "metadata": {},
   "source": [
    "Now that we have the data in a conventient DataFrame, we can plot the bandwidth:"
   ]
  },
  {
   "cell_type": "code",
   "execution_count": 71,
   "metadata": {},
   "outputs": [
    {
     "data": {
      "text/plain": [
       "95.79"
      ]
     },
     "execution_count": 71,
     "metadata": {},
     "output_type": "execute_result"
    }
   ],
   "source": [
    "df.peak.max()"
   ]
  },
  {
   "cell_type": "code",
   "execution_count": 70,
   "metadata": {},
   "outputs": [
    {
     "data": {
      "text/plain": [
       "<matplotlib.legend.Legend at 0x1a5d6ac6f98>"
      ]
     },
     "execution_count": 70,
     "metadata": {},
     "output_type": "execute_result"
    },
    {
     "data": {
      "image/png": "[encoded data removed]",
      "text/plain": [
       "<Figure size 1440x864 with 1 Axes>"
      ]
     },
     "metadata": {},
     "output_type": "display_data"
    }
   ],
   "source": [
    "plt.grid(True)\n",
    "plt.xscale('log', basex=2)\n",
    "plt.xlabel('Message size [Bytes]')\n",
    "plt.ylabel('Bandwidth [Gbit/s]')\n",
    "plt.rcParams['figure.figsize'] = [20,12]\n",
    "lw=4.0\n",
    "\n",
    "plt.plot(df.bytes,df.average,linewidth=lw, label=\"bandwidth-average\")\n",
    "plt.plot(df.bytes,df.peak,linewidth=lw, label=\"bandwidth-peak\")\n",
    "\n",
    "plt.legend()  "
   ]
  }
 ],
 "metadata": {
  "kernelspec": {
   "display_name": "Python 3",
   "language": "python",
   "name": "python3"
  },
  "language_info": {
   "codemirror_mode": {
    "name": "ipython",
    "version": 3
   },
   "file_extension": ".py",
   "mimetype": "text/x-python",
   "name": "python",
   "nbconvert_exporter": "python",
   "pygments_lexer": "ipython3",
   "version": "3.6.5"
  }
 },
 "nbformat": 4,
 "nbformat_minor": 2
}
